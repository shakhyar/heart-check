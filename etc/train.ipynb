{
 "cells": [
  {
   "cell_type": "code",
   "execution_count": null,
   "metadata": {
    "id": "UCN6LsrHMExR"
   },
   "outputs": [],
   "source": [
    "!mkdir data"
   ]
  },
  {
   "cell_type": "code",
   "execution_count": 1,
   "metadata": {
    "id": "FY2nr_jeM0DS"
   },
   "outputs": [
    {
     "name": "stderr",
     "output_type": "stream",
     "text": [
      "--2021-10-16 15:22:24--  https://archive.ics.uci.edu/ml/machine-learning-databases/heart-disease/processed.hungarian.data\n",
      "Resolving archive.ics.uci.edu (archive.ics.uci.edu)... 128.195.10.252\n",
      "Connecting to archive.ics.uci.edu (archive.ics.uci.edu)|128.195.10.252|:443... connected.\n",
      "HTTP request sent, awaiting response... 200 OK\n",
      "Length: 10263 (10K) [application/x-httpd-php]\n",
      "Saving to: 'data/processed.hungarian.data.1'\n",
      "\n",
      "     0K ..........                                            100%  431K=0.02s\n",
      "\n",
      "2021-10-16 15:22:26 (431 KB/s) - 'data/processed.hungarian.data.1' saved [10263/10263]\n",
      "\n",
      "--2021-10-16 15:22:26--  https://archive.ics.uci.edu/ml/machine-learning-databases/heart-disease/processed.cleveland.data\n",
      "Resolving archive.ics.uci.edu (archive.ics.uci.edu)... 128.195.10.252\n",
      "Connecting to archive.ics.uci.edu (archive.ics.uci.edu)|128.195.10.252|:443... connected.\n",
      "HTTP request sent, awaiting response... 200 OK\n",
      "Length: 18461 (18K) [application/x-httpd-php]\n",
      "Saving to: 'data/processed.cleveland.data.1'\n",
      "\n",
      "     0K .......... ........                                   100% 55.6K=0.3s\n",
      "\n",
      "2021-10-16 15:22:28 (55.6 KB/s) - 'data/processed.cleveland.data.1' saved [18461/18461]\n",
      "\n",
      "--2021-10-16 15:22:28--  https://archive.ics.uci.edu/ml/machine-learning-databases/heart-disease/processed.va.data\n",
      "Resolving archive.ics.uci.edu (archive.ics.uci.edu)... 128.195.10.252\n",
      "Connecting to archive.ics.uci.edu (archive.ics.uci.edu)|128.195.10.252|:443... connected.\n",
      "HTTP request sent, awaiting response... 200 OK\n",
      "Length: 6737 (6.6K) [application/x-httpd-php]\n",
      "Saving to: 'data/processed.va.data'\n",
      "\n",
      "     0K ......                                                100% 1.10M=0.006s\n",
      "\n",
      "2021-10-16 15:22:30 (1.10 MB/s) - 'data/processed.va.data' saved [6737/6737]\n",
      "\n",
      "--2021-10-16 15:22:30--  https://archive.ics.uci.edu/ml/machine-learning-databases/heart-disease/processed.switzerland.data\n",
      "Resolving archive.ics.uci.edu (archive.ics.uci.edu)... 128.195.10.252\n",
      "Connecting to archive.ics.uci.edu (archive.ics.uci.edu)|128.195.10.252|:443... connected.\n",
      "HTTP request sent, awaiting response... 200 OK\n",
      "Length: 4109 (4.0K) [application/x-httpd-php]\n",
      "Saving to: 'data/processed.switzerland.data.1'\n",
      "\n",
      "     0K ....                                                  100%  582K=0.007s\n",
      "\n",
      "2021-10-16 15:22:32 (582 KB/s) - 'data/processed.switzerland.data.1' saved [4109/4109]\n",
      "\n"
     ]
    }
   ],
   "source": [
    "!wget -P data/ https://archive.ics.uci.edu/ml/machine-learning-databases/heart-disease/processed.hungarian.data\n",
    "!wget -P data/ https://archive.ics.uci.edu/ml/machine-learning-databases/heart-disease/processed.cleveland.data\n",
    "!wget -P data/ https://archive.ics.uci.edu/ml/machine-learning-databases/heart-disease/processed.va.data\n",
    "!wget -P data/ https://archive.ics.uci.edu/ml/machine-learning-databases/heart-disease/processed.switzerland.data"
   ]
  },
  {
   "cell_type": "code",
   "execution_count": 1,
   "metadata": {
    "colab": {
     "base_uri": "https://localhost:8080/"
    },
    "id": "vIxhbDzeL4hV",
    "outputId": "95db675d-57ef-4453-cb8d-26d3407919f9"
   },
   "outputs": [],
   "source": [
    "import pandas as pd\n",
    "import numpy as np\n",
    "\n",
    "cl = pd.read_csv(\"data/processed.hungarian.data\")\n",
    "hn = pd.read_csv(\"data/processed.hungarian.data\")\n",
    "sw = pd.read_csv(\"data/processed.switzerland.data\")\n",
    "va = pd.read_csv(\"data/processed.va.data\")"
   ]
  },
  {
   "cell_type": "code",
   "execution_count": 2,
   "metadata": {
    "id": "hZI5o4DVOXfW"
   },
   "outputs": [],
   "source": [
    "classes = ['age', 'gender', 'cp', 'trestbps', 'chol', 'fbs', 'restecg', 'thalach',\n",
    "           'exang', 'oldpeak', 'slope', 'ca', 'thal', 'target']\n",
    "\n",
    "classes_to_drop = ['exang', 'oldpeak', 'slope', 'ca', 'thal']\n",
    "\n",
    "cl.columns = classes\n",
    "hn.columns = classes\n",
    "sw.columns = classes\n",
    "va.columns = classes\n",
    "\n",
    "for i in classes_to_drop:\n",
    "    cl.drop(i, inplace=True, axis=1)\n",
    "    hn.drop(i, inplace=True, axis=1)\n",
    "    sw.drop(i, inplace=True, axis=1)\n",
    "    va.drop(i, inplace=True, axis=1)"
   ]
  },
  {
   "cell_type": "code",
   "execution_count": 3,
   "metadata": {
    "id": "wmfNY4qAJHYW"
   },
   "outputs": [],
   "source": [
    "age = []\n",
    "gender = [] \n",
    "cp = []\n",
    "trestbps =[] \n",
    "chol = []\n",
    "fbs = []\n",
    "restecg =[]\n",
    "thalach = []\n",
    "target =[] "
   ]
  },
  {
   "cell_type": "code",
   "execution_count": 4,
   "metadata": {
    "colab": {
     "base_uri": "https://localhost:8080/"
    },
    "id": "o68OCwKMWY6i",
    "outputId": "8fe22a81-a7b9-48cb-c269-919c70ef08f7"
   },
   "outputs": [],
   "source": [
    "age = [cl['age'].tolist(), hn['age'].tolist(), sw['age'].tolist(), va['age'].tolist()]\n",
    "gender = [cl['gender'].tolist(), hn['gender'].tolist(), sw['gender'].tolist(), va['gender'].tolist()]\n",
    "cp = [cl['cp'].tolist(), hn['cp'].tolist(), sw['cp'].tolist(), va['cp'].tolist()]\n",
    "trestbps = [cl['trestbps'].tolist(), hn['trestbps'].tolist(), sw['trestbps'].tolist(), va['trestbps'].tolist()]\n",
    "chol = [cl['chol'].tolist(), hn['chol'].tolist(), sw['chol'].tolist(), va['chol'].tolist()]\n",
    "fbs = [cl['fbs'].tolist(), hn['fbs'].tolist(), sw['fbs'].tolist(), va['fbs'].tolist()]\n",
    "restecg = [cl['restecg'].tolist(), hn['restecg'].tolist(), sw['restecg'].tolist(), va['restecg'].tolist()]\n",
    "thalach = [cl['thalach'].tolist(), hn['thalach'].tolist(), sw['thalach'].tolist(), va['thalach'].tolist()]\n",
    "target = [cl['target'].tolist(), hn['target'].tolist(), sw['target'].tolist(), va['target'].tolist()]"
   ]
  },
  {
   "cell_type": "code",
   "execution_count": 14,
   "metadata": {
    "id": "37YVv2qjALFM"
   },
   "outputs": [],
   "source": [
    "data = pd.DataFrame({\"age\": age[0]+age[1]+age[2],\n",
    "                    \"gender\": gender[0]+gender[1]+gender[2], \n",
    "                    \"cp\": cp[0]+cp[1]+cp[2],\n",
    "                     \"trestbps\": trestbps[0]+trestbps[1]+trestbps[2],\n",
    "                     'chol': chol[0]+chol[1]+chol[2],\n",
    "                     'fbs': fbs[0]+fbs[1]+fbs[2],\n",
    "                     'restecg': restecg[0]+restecg[1]+restecg[2],\n",
    "                     'thalach': thalach[0]+thalach[1]+thalach[2],\n",
    "                     'target': target[0]+target[1]+target[2]\n",
    "                     })\n",
    "data = data.replace(to_replace =\"?\",\n",
    "                 value = None)"
   ]
  },
  {
   "cell_type": "code",
   "execution_count": 16,
   "metadata": {},
   "outputs": [
    {
     "data": {
      "text/plain": [
       "<bound method NDFrame.head of      age  gender  cp trestbps chol fbs restecg thalach  target\n",
       "0     29       1   2      120  243   0       0     160       0\n",
       "1     29       1   2      140  243   0       0     170       0\n",
       "2     30       0   1      170  237   0       1     170       0\n",
       "3     31       0   2      100  219   0       1     150       0\n",
       "4     32       0   2      105  198   0       0     165       0\n",
       "..   ...     ...  ..      ...  ...  ..     ...     ...     ...\n",
       "703   70       1   4      115    0   0       1      92       1\n",
       "704   70       1   4      140    0   1       0     157       3\n",
       "705   72       1   3      160    0   1       2     114       0\n",
       "706   73       0   3      160    0   0       1     121       1\n",
       "707   74       1   2      145    0   0       1     123       1\n",
       "\n",
       "[708 rows x 9 columns]>"
      ]
     },
     "execution_count": 16,
     "metadata": {},
     "output_type": "execute_result"
    }
   ],
   "source": [
    "data.shape\n",
    "data.head"
   ]
  },
  {
   "cell_type": "code",
   "execution_count": 17,
   "metadata": {},
   "outputs": [
    {
     "data": {
      "text/html": [
       "<div>\n",
       "<style scoped>\n",
       "    .dataframe tbody tr th:only-of-type {\n",
       "        vertical-align: middle;\n",
       "    }\n",
       "\n",
       "    .dataframe tbody tr th {\n",
       "        vertical-align: top;\n",
       "    }\n",
       "\n",
       "    .dataframe thead th {\n",
       "        text-align: right;\n",
       "    }\n",
       "</style>\n",
       "<table border=\"1\" class=\"dataframe\">\n",
       "  <thead>\n",
       "    <tr style=\"text-align: right;\">\n",
       "      <th></th>\n",
       "      <th>age</th>\n",
       "      <th>gender</th>\n",
       "      <th>cp</th>\n",
       "      <th>trestbps</th>\n",
       "      <th>chol</th>\n",
       "      <th>fbs</th>\n",
       "      <th>restecg</th>\n",
       "      <th>thalach</th>\n",
       "      <th>target</th>\n",
       "    </tr>\n",
       "  </thead>\n",
       "  <tbody>\n",
       "    <tr>\n",
       "      <th>0</th>\n",
       "      <td>29</td>\n",
       "      <td>1</td>\n",
       "      <td>2</td>\n",
       "      <td>120</td>\n",
       "      <td>243</td>\n",
       "      <td>0</td>\n",
       "      <td>0</td>\n",
       "      <td>160</td>\n",
       "      <td>0</td>\n",
       "    </tr>\n",
       "    <tr>\n",
       "      <th>1</th>\n",
       "      <td>29</td>\n",
       "      <td>1</td>\n",
       "      <td>2</td>\n",
       "      <td>140</td>\n",
       "      <td>243</td>\n",
       "      <td>0</td>\n",
       "      <td>0</td>\n",
       "      <td>170</td>\n",
       "      <td>0</td>\n",
       "    </tr>\n",
       "    <tr>\n",
       "      <th>2</th>\n",
       "      <td>30</td>\n",
       "      <td>0</td>\n",
       "      <td>1</td>\n",
       "      <td>170</td>\n",
       "      <td>237</td>\n",
       "      <td>0</td>\n",
       "      <td>1</td>\n",
       "      <td>170</td>\n",
       "      <td>0</td>\n",
       "    </tr>\n",
       "    <tr>\n",
       "      <th>3</th>\n",
       "      <td>31</td>\n",
       "      <td>0</td>\n",
       "      <td>2</td>\n",
       "      <td>100</td>\n",
       "      <td>219</td>\n",
       "      <td>0</td>\n",
       "      <td>1</td>\n",
       "      <td>150</td>\n",
       "      <td>0</td>\n",
       "    </tr>\n",
       "    <tr>\n",
       "      <th>4</th>\n",
       "      <td>32</td>\n",
       "      <td>0</td>\n",
       "      <td>2</td>\n",
       "      <td>105</td>\n",
       "      <td>198</td>\n",
       "      <td>0</td>\n",
       "      <td>0</td>\n",
       "      <td>165</td>\n",
       "      <td>0</td>\n",
       "    </tr>\n",
       "    <tr>\n",
       "      <th>...</th>\n",
       "      <td>...</td>\n",
       "      <td>...</td>\n",
       "      <td>...</td>\n",
       "      <td>...</td>\n",
       "      <td>...</td>\n",
       "      <td>...</td>\n",
       "      <td>...</td>\n",
       "      <td>...</td>\n",
       "      <td>...</td>\n",
       "    </tr>\n",
       "    <tr>\n",
       "      <th>703</th>\n",
       "      <td>70</td>\n",
       "      <td>1</td>\n",
       "      <td>4</td>\n",
       "      <td>115</td>\n",
       "      <td>0</td>\n",
       "      <td>0</td>\n",
       "      <td>1</td>\n",
       "      <td>92</td>\n",
       "      <td>1</td>\n",
       "    </tr>\n",
       "    <tr>\n",
       "      <th>704</th>\n",
       "      <td>70</td>\n",
       "      <td>1</td>\n",
       "      <td>4</td>\n",
       "      <td>140</td>\n",
       "      <td>0</td>\n",
       "      <td>1</td>\n",
       "      <td>0</td>\n",
       "      <td>157</td>\n",
       "      <td>3</td>\n",
       "    </tr>\n",
       "    <tr>\n",
       "      <th>705</th>\n",
       "      <td>72</td>\n",
       "      <td>1</td>\n",
       "      <td>3</td>\n",
       "      <td>160</td>\n",
       "      <td>0</td>\n",
       "      <td>1</td>\n",
       "      <td>2</td>\n",
       "      <td>114</td>\n",
       "      <td>0</td>\n",
       "    </tr>\n",
       "    <tr>\n",
       "      <th>706</th>\n",
       "      <td>73</td>\n",
       "      <td>0</td>\n",
       "      <td>3</td>\n",
       "      <td>160</td>\n",
       "      <td>0</td>\n",
       "      <td>0</td>\n",
       "      <td>1</td>\n",
       "      <td>121</td>\n",
       "      <td>1</td>\n",
       "    </tr>\n",
       "    <tr>\n",
       "      <th>707</th>\n",
       "      <td>74</td>\n",
       "      <td>1</td>\n",
       "      <td>2</td>\n",
       "      <td>145</td>\n",
       "      <td>0</td>\n",
       "      <td>0</td>\n",
       "      <td>1</td>\n",
       "      <td>123</td>\n",
       "      <td>1</td>\n",
       "    </tr>\n",
       "  </tbody>\n",
       "</table>\n",
       "<p>708 rows × 9 columns</p>\n",
       "</div>"
      ],
      "text/plain": [
       "     age  gender  cp trestbps chol fbs restecg thalach  target\n",
       "0     29       1   2      120  243   0       0     160       0\n",
       "1     29       1   2      140  243   0       0     170       0\n",
       "2     30       0   1      170  237   0       1     170       0\n",
       "3     31       0   2      100  219   0       1     150       0\n",
       "4     32       0   2      105  198   0       0     165       0\n",
       "..   ...     ...  ..      ...  ...  ..     ...     ...     ...\n",
       "703   70       1   4      115    0   0       1      92       1\n",
       "704   70       1   4      140    0   1       0     157       3\n",
       "705   72       1   3      160    0   1       2     114       0\n",
       "706   73       0   3      160    0   0       1     121       1\n",
       "707   74       1   2      145    0   0       1     123       1\n",
       "\n",
       "[708 rows x 9 columns]"
      ]
     },
     "execution_count": 17,
     "metadata": {},
     "output_type": "execute_result"
    }
   ],
   "source": [
    "data"
   ]
  },
  {
   "cell_type": "code",
   "execution_count": 18,
   "metadata": {},
   "outputs": [],
   "source": [
    "from sklearn.tree import DecisionTreeClassifier\n",
    "from sklearn.model_selection import train_test_split\n",
    "import pickle"
   ]
  },
  {
   "cell_type": "code",
   "execution_count": 19,
   "metadata": {},
   "outputs": [],
   "source": [
    "x = data.drop(['target'], axis = 1)\n",
    "y = data['target']\n",
    "\n",
    "x_train, x_test, y_train, y_test = train_test_split(x, y, test_size = 0.1, random_state = 0)"
   ]
  },
  {
   "cell_type": "code",
   "execution_count": 20,
   "metadata": {},
   "outputs": [
    {
     "name": "stdout",
     "output_type": "stream",
     "text": [
      "0.8873239436619719\n"
     ]
    }
   ],
   "source": [
    "model = DecisionTreeClassifier(criterion='entropy', random_state=0)\n",
    "model.fit(x_train, y_train)\n",
    "score = 0\n",
    "score = model.score(x_test, y_test)\n",
    "print(score)"
   ]
  },
  {
   "cell_type": "code",
   "execution_count": 21,
   "metadata": {},
   "outputs": [
    {
     "name": "stdout",
     "output_type": "stream",
     "text": [
      "[1]\n"
     ]
    }
   ],
   "source": [
    "# testing\n",
    "\n",
    "pred = np.array([73,0,3,160,0,0,1,121]) # ground truth = 1\n",
    "p = pred.reshape(-1, 1)\n",
    "p = p.reshape(1, 8)\n",
    "\n",
    "\n",
    "history = model.predict(p)\n",
    "print(history)"
   ]
  },
  {
   "cell_type": "code",
   "execution_count": 22,
   "metadata": {},
   "outputs": [],
   "source": [
    "#save the model\n",
    "pickle.dump(model, open('saved/model', 'wb'))"
   ]
  },
  {
   "cell_type": "code",
   "execution_count": null,
   "metadata": {},
   "outputs": [],
   "source": [
    "# Run below cells if you already saved your model"
   ]
  },
  {
   "cell_type": "code",
   "execution_count": 23,
   "metadata": {},
   "outputs": [],
   "source": [
    "import pickle\n",
    "import numpy as np\n",
    "\n",
    "model = pickle.load(open('saved/model', 'rb'))\n"
   ]
  },
  {
   "cell_type": "code",
   "execution_count": 24,
   "metadata": {},
   "outputs": [
    {
     "name": "stdout",
     "output_type": "stream",
     "text": [
      "[3]\n"
     ]
    }
   ],
   "source": [
    "pred = np.array([70,1,4,140,0,1,0,157]) # ground truth = 1\n",
    "p = pred.reshape(-1, 1)\n",
    "p = p.reshape(1, 8)\n",
    "\n",
    "\n",
    "history = model.predict(p)\n",
    "print(history)"
   ]
  },
  {
   "cell_type": "code",
   "execution_count": null,
   "metadata": {},
   "outputs": [],
   "source": [
    "# manual test samples\n",
    "70\t1\t4\t115\t0\t0\t1\t92   # 1\n",
    "30\t0\t1\t170\t237\t0\t1\t170\t # 0\n",
    "70,1,4,140,0,1,0,157   #3"
   ]
  }
 ],
 "metadata": {
  "colab": {
   "name": "heart_disease_classification.ipynb",
   "provenance": []
  },
  "kernelspec": {
   "display_name": "Python 3",
   "language": "python",
   "name": "python3"
  },
  "language_info": {
   "codemirror_mode": {
    "name": "ipython",
    "version": 3
   },
   "file_extension": ".py",
   "mimetype": "text/x-python",
   "name": "python",
   "nbconvert_exporter": "python",
   "pygments_lexer": "ipython3",
   "version": "3.6.6"
  }
 },
 "nbformat": 4,
 "nbformat_minor": 1
}
