{
 "cells": [
  {
   "cell_type": "code",
   "execution_count": null,
   "metadata": {
    "id": "UCN6LsrHMExR"
   },
   "outputs": [],
   "source": [
    "!mkdir data"
   ]
  },
  {
   "cell_type": "markdown",
   "metadata": {},
   "source": [
    "# download data"
   ]
  },
  {
   "cell_type": "code",
   "execution_count": null,
   "metadata": {
    "id": "FY2nr_jeM0DS",
    "scrolled": false
   },
   "outputs": [],
   "source": [
    "!wget -P data/ https://archive.ics.uci.edu/ml/machine-learning-databases/heart-disease/processed.hungarian.data\n",
    "!wget -P data/ https://archive.ics.uci.edu/ml/machine-learning-databases/heart-disease/processed.cleveland.data\n",
    "!wget -P data/ https://archive.ics.uci.edu/ml/machine-learning-databases/heart-disease/processed.va.data\n",
    "!wget -P data/ https://archive.ics.uci.edu/ml/machine-learning-databases/heart-disease/processed.switzerland.data"
   ]
  },
  {
   "cell_type": "markdown",
   "metadata": {},
   "source": [
    "# Data Preprocessing"
   ]
  },
  {
   "cell_type": "code",
   "execution_count": 1,
   "metadata": {
    "colab": {
     "base_uri": "https://localhost:8080/"
    },
    "id": "vIxhbDzeL4hV",
    "outputId": "95db675d-57ef-4453-cb8d-26d3407919f9"
   },
   "outputs": [],
   "source": [
    "import pandas as pd\n",
    "import numpy as np\n",
    "from sklearn.preprocessing import MinMaxScaler\n",
    "\n",
    "# load datasets\n",
    "cl = pd.read_csv(\"data/processed.cleveland.data\")\n",
    "hn = pd.read_csv(\"data/processed.hungarian.data\")\n",
    "sw = pd.read_csv(\"data/processed.switzerland.data\")\n",
    "va = pd.read_csv(\"data/processed.va.data\")"
   ]
  },
  {
   "cell_type": "code",
   "execution_count": 2,
   "metadata": {
    "id": "hZI5o4DVOXfW"
   },
   "outputs": [],
   "source": [
    "classes = ['age', 'gender', 'cp', 'trestbps', 'chol', 'fbs', 'restecg', 'thalach',\n",
    "           'exang', 'oldpeak', 'slope', 'ca', 'thal', 'target']\n",
    "\n",
    "classes_to_drop = ['exang', 'oldpeak', 'slope', 'ca', 'thal']\n",
    "\n",
    "cl.columns = classes\n",
    "hn.columns = classes\n",
    "sw.columns = classes\n",
    "va.columns = classes\n",
    "\n",
    "for i in classes_to_drop:\n",
    "    cl.drop(i, inplace=True, axis=1)\n",
    "    hn.drop(i, inplace=True, axis=1)\n",
    "    sw.drop(i, inplace=True, axis=1)\n",
    "    va.drop(i, inplace=True, axis=1)"
   ]
  },
  {
   "cell_type": "code",
   "execution_count": 3,
   "metadata": {
    "id": "wmfNY4qAJHYW"
   },
   "outputs": [],
   "source": [
    "age = []\n",
    "gender = [] \n",
    "cp = []\n",
    "trestbps =[] \n",
    "chol = []\n",
    "fbs = []\n",
    "restecg =[]\n",
    "thalach = []\n",
    "target =[] "
   ]
  },
  {
   "cell_type": "code",
   "execution_count": 4,
   "metadata": {
    "colab": {
     "base_uri": "https://localhost:8080/"
    },
    "id": "o68OCwKMWY6i",
    "outputId": "8fe22a81-a7b9-48cb-c269-919c70ef08f7"
   },
   "outputs": [],
   "source": [
    "# concatenate the columns of 4 datasets into single columns\n",
    "\n",
    "age = [cl['age'].tolist(), hn['age'].tolist(), sw['age'].tolist(), va['age'].tolist()]\n",
    "gender = [cl['gender'].tolist(), hn['gender'].tolist(), sw['gender'].tolist(), va['gender'].tolist()]\n",
    "cp = [cl['cp'].tolist(), hn['cp'].tolist(), sw['cp'].tolist(), va['cp'].tolist()]\n",
    "trestbps = [cl['trestbps'].tolist(), hn['trestbps'].tolist(), sw['trestbps'].tolist(), va['trestbps'].tolist()]\n",
    "chol = [cl['chol'].tolist(), hn['chol'].tolist(), sw['chol'].tolist(), va['chol'].tolist()]\n",
    "fbs = [cl['fbs'].tolist(), hn['fbs'].tolist(), sw['fbs'].tolist(), va['fbs'].tolist()]\n",
    "restecg = [cl['restecg'].tolist(), hn['restecg'].tolist(), sw['restecg'].tolist(), va['restecg'].tolist()]\n",
    "thalach = [cl['thalach'].tolist(), hn['thalach'].tolist(), sw['thalach'].tolist(), va['thalach'].tolist()]\n",
    "target = [cl['target'].tolist(), hn['target'].tolist(), sw['target'].tolist(), va['target'].tolist()]"
   ]
  },
  {
   "cell_type": "code",
   "execution_count": 5,
   "metadata": {
    "id": "37YVv2qjALFM"
   },
   "outputs": [],
   "source": [
    "# creating the data pipeline\n",
    "data = pd.DataFrame({\"age\": age[0]+age[1]+age[2]+age[3],\n",
    "                    \"gender\": gender[0]+gender[1]+gender[2]+gender[3], \n",
    "                    \"cp\": cp[0]+cp[1]+cp[2]+cp[3],\n",
    "                     \"trestbps\": trestbps[0]+trestbps[1]+trestbps[2]+trestbps[3],\n",
    "                     'chol': chol[0]+chol[1]+chol[2]+chol[3],\n",
    "                     'fbs': fbs[0]+fbs[1]+fbs[2]+fbs[3],\n",
    "                     'restecg': restecg[0]+restecg[1]+restecg[2]+restecg[3],\n",
    "                     'thalach': thalach[0]+thalach[1]+thalach[2]+thalach[3],\n",
    "                     'target': target[0]+target[1]+target[2]+target[3],\n",
    "                     })\n"
   ]
  },
  {
   "cell_type": "code",
   "execution_count": 6,
   "metadata": {},
   "outputs": [],
   "source": [
    "# minor preprocessing, replacing Null values\n",
    "data = data.replace(to_replace =\"?\",\n",
    "                 value = -1)\n",
    "\n",
    "# transforming multi-class dataset into binary classification dataset\n",
    "data['target'] = data['target'].replace([2, 3, 4],1)\n",
    "\n",
    "# replacing empty cholestroel values with normal cholestroel level\n",
    "data['chol'] = data['chol'].replace([0,0], 200)"
   ]
  },
  {
   "cell_type": "code",
   "execution_count": 7,
   "metadata": {},
   "outputs": [],
   "source": [
    "# rescalling the data\n",
    "min_max_scaler = MinMaxScaler()\n",
    "data[['age', 'gender', 'cp', 'trestbps', 'chol', 'fbs', 'restecg', 'thalach']] = min_max_scaler.fit_transform(data[['age', 'gender', 'cp', 'trestbps', 'chol', 'fbs', 'restecg', 'thalach']])"
   ]
  },
  {
   "cell_type": "code",
   "execution_count": null,
   "metadata": {},
   "outputs": [],
   "source": [
    "data.shape"
   ]
  },
  {
   "cell_type": "code",
   "execution_count": null,
   "metadata": {},
   "outputs": [],
   "source": [
    "data"
   ]
  },
  {
   "cell_type": "markdown",
   "metadata": {},
   "source": [
    "# Building the Model"
   ]
  },
  {
   "cell_type": "code",
   "execution_count": 8,
   "metadata": {},
   "outputs": [],
   "source": [
    "from sklearn.neighbors import KNeighborsClassifier\n",
    "from sklearn.model_selection import train_test_split\n",
    "\n",
    "import matplotlib.pyplot as plt\n",
    "from matplotlib import rcParams\n",
    "\n",
    "\n",
    "import pickle"
   ]
  },
  {
   "cell_type": "code",
   "execution_count": 9,
   "metadata": {},
   "outputs": [],
   "source": [
    "x = data.drop(['target'], axis = 1)\n",
    "y = data['target']\n",
    "\n",
    "x_train, x_test, y_train, y_test = train_test_split(x, y, test_size = 0.1, random_state = 0)"
   ]
  },
  {
   "cell_type": "code",
   "execution_count": 10,
   "metadata": {},
   "outputs": [
    {
     "data": {
      "text/plain": [
       "Text(0.5, 1.0, 'Visualizing classes')"
      ]
     },
     "execution_count": 10,
     "metadata": {},
     "output_type": "execute_result"
    },
    {
     "data": {
      "image/png": "[encoded data removed]",
      "text/plain": [
       "<Figure size 576x432 with 1 Axes>"
      ]
     },
     "metadata": {
      "needs_background": "light"
     },
     "output_type": "display_data"
    }
   ],
   "source": [
    "# visualizing the classes\n",
    "rcParams['figure.figsize'] = 8,6\n",
    "plt.bar(data['target'].unique(), data['target'].value_counts(), color = ['red', 'green'])\n",
    "plt.xticks([0, 1])\n",
    "plt.xlabel('Target Classes')\n",
    "plt.ylabel('total targets')\n",
    "plt.title('Visualizing classes')"
   ]
  },
  {
   "cell_type": "code",
   "execution_count": 11,
   "metadata": {},
   "outputs": [
    {
     "name": "stdout",
     "output_type": "stream",
     "text": [
      "[0.9230769230769231, 0.8021978021978022, 0.7802197802197802, 0.7802197802197802, 0.8351648351648352, 0.7912087912087912, 0.7692307692307693, 0.8021978021978022, 0.8241758241758241, 0.8571428571428571, 0.8681318681318682, 0.8241758241758241, 0.8131868131868132, 0.8131868131868132, 0.8131868131868132, 0.8021978021978022, 0.8241758241758241, 0.8131868131868132, 0.8131868131868132, 0.8131868131868132]\n"
     ]
    }
   ],
   "source": [
    "# getting scores from training on different K values\n",
    "scores = []\n",
    "for i in range(1,21):\n",
    "    mod_iter = KNeighborsClassifier(n_neighbors = i)\n",
    "    mod_iter.fit(x_train, y_train)\n",
    "    scores.append(mod_iter.score(x_test, y_test))\n",
    "print(scores)"
   ]
  },
  {
   "cell_type": "code",
   "execution_count": 12,
   "metadata": {
    "scrolled": true
   },
   "outputs": [
    {
     "data": {
      "text/plain": [
       "Text(0.5, 1.0, 'K Neighbors Classifier scores for different K values')"
      ]
     },
     "execution_count": 12,
     "metadata": {},
     "output_type": "execute_result"
    },
    {
     "data": {
      "image/png": "[encoded data removed]",
      "text/plain": [
       "<Figure size 576x432 with 1 Axes>"
      ]
     },
     "metadata": {
      "needs_background": "light"
     },
     "output_type": "display_data"
    }
   ],
   "source": [
    "# plotting the scores obtained by training on different k values\n",
    "plt.plot([k for k in range(1, 21)], scores, color = 'red')\n",
    "for i in range(1,21):\n",
    "    plt.text(i, scores[i-1], (i, scores[i-1]))\n",
    "plt.xticks([i for i in range(1, 21)])\n",
    "plt.xlabel('Number of Neighbors (K)')\n",
    "plt.ylabel('Scores')\n",
    "plt.title('K Neighbors Classifier scores for different K values')"
   ]
  },
  {
   "cell_type": "code",
   "execution_count": 13,
   "metadata": {},
   "outputs": [
    {
     "data": {
      "text/plain": [
       "0.9230769230769231"
      ]
     },
     "execution_count": 13,
     "metadata": {},
     "output_type": "execute_result"
    }
   ],
   "source": [
    "# final model buildup\n",
    "model = KNeighborsClassifier(n_neighbors = 1)\n",
    "model.fit(x_train, y_train)\n",
    "model.score(x_test, y_test)"
   ]
  },
  {
   "cell_type": "code",
   "execution_count": 14,
   "metadata": {},
   "outputs": [
    {
     "name": "stdout",
     "output_type": "stream",
     "text": [
      "[1]\n"
     ]
    }
   ],
   "source": [
    "# testing\n",
    "\n",
    "pred = np.array([73,0,3,160,0,0,1,121]) # ground truth = 1\n",
    "p = pred.reshape(-1, 1)\n",
    "p = p.reshape(1, 8)\n",
    "\n",
    "\n",
    "history = model.predict(p)\n",
    "print(history)"
   ]
  },
  {
   "cell_type": "code",
   "execution_count": null,
   "metadata": {},
   "outputs": [],
   "source": [
    "#save the model\n",
    "pickle.dump(model, open('saved/model', 'wb'))"
   ]
  },
  {
   "cell_type": "markdown",
   "metadata": {},
   "source": [
    "# Run the code below if you already have a saved model"
   ]
  },
  {
   "cell_type": "code",
   "execution_count": null,
   "metadata": {},
   "outputs": [],
   "source": [
    "import pickle\n",
    "import numpy as np\n",
    "\n",
    "model = pickle.load(open('saved/model', 'rb'))\n"
   ]
  },
  {
   "cell_type": "code",
   "execution_count": null,
   "metadata": {},
   "outputs": [],
   "source": [
    "pred = np.array([30, 0, 1, 170, 237, 0, 1, 170]) # ground truth = 0\n",
    "p = pred.reshape(-1, 1)\n",
    "p = p.reshape(1, 8)\n",
    "\n",
    "\n",
    "history = model.predict(p)\n",
    "print(history)"
   ]
  }
 ],
 "metadata": {
  "colab": {
   "name": "heart_disease_classification.ipynb",
   "provenance": []
  },
  "kernelspec": {
   "display_name": "Python 3",
   "language": "python",
   "name": "python3"
  },
  "language_info": {
   "codemirror_mode": {
    "name": "ipython",
    "version": 3
   },
   "file_extension": ".py",
   "mimetype": "text/x-python",
   "name": "python",
   "nbconvert_exporter": "python",
   "pygments_lexer": "ipython3",
   "version": "3.6.6"
  }
 },
 "nbformat": 4,
 "nbformat_minor": 1
}
